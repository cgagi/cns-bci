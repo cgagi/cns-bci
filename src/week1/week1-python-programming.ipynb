{
 "cells": [
  {
   "cell_type": "code",
   "execution_count": 2,
   "id": "867f723e",
   "metadata": {},
   "outputs": [],
   "source": [
    "import numpy as np"
   ]
  },
  {
   "cell_type": "markdown",
   "id": "97f8f279",
   "metadata": {},
   "source": [
    "## Question 1: \n",
    "Which matrix corresponds to the following code?"
   ]
  },
  {
   "cell_type": "code",
   "execution_count": 3,
   "id": "3f992c6e",
   "metadata": {},
   "outputs": [
    {
     "data": {
      "text/plain": [
       "array([[1, 2, 3],\n",
       "       [2, 3, 4],\n",
       "       [3, 4, 5],\n",
       "       [4, 5, 6]])"
      ]
     },
     "execution_count": 3,
     "metadata": {},
     "output_type": "execute_result"
    }
   ],
   "source": [
    "A = np.array([[1, 2, 3], [2, 3, 4], [3, 4, 5], [4, 5, 6]])\n",
    "A"
   ]
  },
  {
   "attachments": {
    "image.png": {
     "image/png": "[encoded data removed]"
    }
   },
   "cell_type": "markdown",
   "id": "6bf2cb34",
   "metadata": {},
   "source": [
    "## Question 2:\n",
    "![image.png](attachment:image.png)"
   ]
  },
  {
   "cell_type": "code",
   "execution_count": 8,
   "id": "1f48733e",
   "metadata": {},
   "outputs": [
    {
     "data": {
      "text/plain": [
       "array([[2, 3, 4],\n",
       "       [4, 5, 6]])"
      ]
     },
     "execution_count": 8,
     "metadata": {},
     "output_type": "execute_result"
    }
   ],
   "source": [
    "A = np.array([[1, 2, 3, 4], [2, 3, 4, 5], [3, 4, 5, 6]])\n",
    "B = A[[0,2], 1:]\n",
    "B"
   ]
  },
  {
   "cell_type": "markdown",
   "id": "d9ec3e6c",
   "metadata": {},
   "source": [
    "## Question 3\n",
    "how to import numpy as np"
   ]
  },
  {
   "cell_type": "code",
   "execution_count": 9,
   "id": "aa35d9f4",
   "metadata": {},
   "outputs": [],
   "source": [
    "import numpy as np"
   ]
  },
  {
   "cell_type": "markdown",
   "id": "0d39f143",
   "metadata": {},
   "source": [
    "## Question 4\n",
    "Given that numpy is imported as np, and that you have defined the one-dimensional array a = [1, 2, 3, 4]\n",
    "which of the following commands will not raise an error?"
   ]
  },
  {
   "cell_type": "code",
   "execution_count": null,
   "id": "5427d416",
   "metadata": {},
   "outputs": [],
   "source": [
    "a = [1,2,3,4]\n",
    "b = a[:5]\n",
    "b = np.ones((5,5,))\n",
    "b = a[:2]\n",
    "b = a[4:]"
   ]
  },
  {
   "cell_type": "markdown",
   "id": "087303de",
   "metadata": {},
   "source": [
    "## Question 5\n",
    "Code generates an array xx of 100 random numbers between 0 and 1"
   ]
  },
  {
   "cell_type": "code",
   "execution_count": 10,
   "id": "5f0df5f6",
   "metadata": {
    "scrolled": true
   },
   "outputs": [
    {
     "data": {
      "text/plain": [
       "array([9.64662045e-01, 6.00940440e-01, 7.21655032e-01, 9.98738050e-01,\n",
       "       3.71941548e-01, 9.96505859e-01, 9.27152200e-02, 2.29745970e-01,\n",
       "       9.45141856e-01, 1.73432619e-01, 1.28005914e-01, 6.55876899e-01,\n",
       "       6.79597291e-01, 2.52980176e-02, 3.57448700e-01, 9.63627844e-02,\n",
       "       7.25173174e-01, 1.65448579e-01, 5.15365723e-01, 5.71299418e-01,\n",
       "       3.70845514e-01, 6.25532599e-01, 7.43520971e-01, 3.69623014e-01,\n",
       "       4.03555424e-01, 4.79612509e-01, 1.88097680e-01, 7.84923732e-01,\n",
       "       1.39799761e-01, 6.55000934e-04, 4.87361028e-01, 2.55713015e-01,\n",
       "       6.45642794e-01, 5.26932130e-01, 5.20304337e-01, 5.50281465e-01,\n",
       "       9.36749579e-01, 3.30448070e-01, 6.39254141e-01, 4.01699368e-01,\n",
       "       4.89180117e-02, 4.83370047e-01, 2.44921890e-01, 9.01035081e-01,\n",
       "       7.33366551e-01, 6.15526703e-01, 8.39687780e-01, 3.91159383e-01,\n",
       "       9.17544773e-01, 4.97203459e-01, 9.96900477e-01, 8.69608413e-01,\n",
       "       7.44584647e-01, 4.96093667e-01, 8.47527115e-02, 5.65522121e-01,\n",
       "       6.18188911e-01, 9.36588886e-01, 2.53183271e-01, 7.02573704e-01,\n",
       "       9.11337416e-01, 5.06538281e-01, 3.87664510e-02, 9.57258708e-01,\n",
       "       5.46885112e-01, 9.84494800e-01, 1.90339183e-01, 4.35762449e-01,\n",
       "       9.97196767e-01, 4.24040157e-01, 9.40309432e-01, 4.07625544e-01,\n",
       "       2.02239013e-01, 9.99920608e-01, 2.25013400e-01, 7.26979484e-02,\n",
       "       9.60526972e-01, 4.64714440e-01, 9.40280852e-01, 8.33811323e-02,\n",
       "       9.05722913e-01, 1.84510933e-01, 1.86052277e-01, 3.31198082e-01,\n",
       "       9.08197378e-01, 3.24064408e-01, 5.68269733e-01, 5.55496136e-02,\n",
       "       1.01608670e-01, 6.50033007e-01, 1.88746376e-01, 1.18640866e-01,\n",
       "       6.37203802e-01, 3.07761484e-01, 5.68816435e-01, 1.64738858e-01,\n",
       "       5.14151281e-04, 4.47894265e-01, 8.62601986e-01, 6.61586363e-01])"
      ]
     },
     "execution_count": 10,
     "metadata": {},
     "output_type": "execute_result"
    }
   ],
   "source": [
    "x = np.random.rand(100)\n",
    "x"
   ]
  },
  {
   "cell_type": "markdown",
   "id": "de618495",
   "metadata": {},
   "source": [
    "## Question 6\n",
    "- Suppose x is an array of 100 random numbers between 0 and 1. \n",
    "- Following piece of code sets to 1 all elements of x that are greater than 0.5"
   ]
  },
  {
   "cell_type": "code",
   "execution_count": 11,
   "id": "03816456",
   "metadata": {},
   "outputs": [
    {
     "data": {
      "text/plain": [
       "array([1.00000000e+00, 1.67357166e-01, 5.92187558e-02, 3.84426372e-01,\n",
       "       1.00000000e+00, 1.00000000e+00, 3.38584197e-01, 3.49527727e-01,\n",
       "       1.00000000e+00, 1.52612558e-01, 1.00000000e+00, 3.53016158e-02,\n",
       "       1.00000000e+00, 3.34652067e-01, 1.26147640e-01, 1.00000000e+00,\n",
       "       1.65011327e-01, 1.00000000e+00, 1.52937910e-01, 8.67278150e-02,\n",
       "       1.00000000e+00, 2.04292554e-01, 1.11148361e-01, 1.00000000e+00,\n",
       "       1.00000000e+00, 3.36963266e-01, 2.72822855e-01, 4.40654790e-01,\n",
       "       1.00000000e+00, 3.46240127e-01, 1.00000000e+00, 2.67942800e-01,\n",
       "       1.00000000e+00, 1.00000000e+00, 2.37567968e-02, 3.15594629e-01,\n",
       "       1.00000000e+00, 5.00502147e-02, 3.35021789e-01, 3.04910808e-01,\n",
       "       1.00000000e+00, 1.00000000e+00, 1.00000000e+00, 1.00000000e+00,\n",
       "       1.00000000e+00, 3.71117607e-01, 1.00000000e+00, 1.00000000e+00,\n",
       "       1.00000000e+00, 1.00000000e+00, 1.00000000e+00, 1.00000000e+00,\n",
       "       1.00000000e+00, 1.09868298e-01, 3.33271237e-01, 1.00000000e+00,\n",
       "       4.96006378e-01, 3.88842648e-01, 1.00000000e+00, 1.00000000e+00,\n",
       "       8.64863431e-04, 1.00000000e+00, 8.34528168e-02, 1.00000000e+00,\n",
       "       1.00000000e+00, 3.21306064e-01, 1.00000000e+00, 2.06610039e-01,\n",
       "       2.10090494e-01, 1.00000000e+00, 1.00000000e+00, 1.00000000e+00,\n",
       "       5.35030279e-02, 1.00000000e+00, 8.16054318e-02, 1.00000000e+00,\n",
       "       1.60618511e-01, 1.93568713e-01, 1.10395368e-01, 3.84592947e-01,\n",
       "       1.00000000e+00, 7.42130587e-02, 4.90810382e-01, 4.73710991e-01,\n",
       "       2.96675076e-01, 1.22214510e-01, 1.00000000e+00, 3.11755903e-01,\n",
       "       3.97929140e-01, 1.00000000e+00, 1.49371238e-01, 1.00000000e+00,\n",
       "       1.00000000e+00, 3.76197989e-01, 1.00000000e+00, 1.00000000e+00,\n",
       "       2.06191950e-01, 1.21609353e-01, 3.22656709e-01, 2.75608050e-01])"
      ]
     },
     "execution_count": 11,
     "metadata": {},
     "output_type": "execute_result"
    }
   ],
   "source": [
    "x = np.random.rand(100)\n",
    "x[x>0.5]=1\n",
    "x"
   ]
  },
  {
   "cell_type": "markdown",
   "id": "2b5565dc",
   "metadata": {},
   "source": [
    "## Question 7\n",
    "Code that returns the numerical indices of the first three elements of the one-dimensional array x that are greater than 1"
   ]
  },
  {
   "cell_type": "code",
   "execution_count": 17,
   "id": "f9462c8a",
   "metadata": {},
   "outputs": [
    {
     "data": {
      "text/plain": [
       "array([0, 2, 6], dtype=int64)"
      ]
     },
     "execution_count": 17,
     "metadata": {},
     "output_type": "execute_result"
    }
   ],
   "source": [
    "x = np.random.rand(100)*2\n",
    "(x > 1).nonzero()[0][:3]"
   ]
  },
  {
   "cell_type": "markdown",
   "id": "a5fde59e",
   "metadata": {},
   "source": [
    "## Question 8\n",
    "- Code that loads the file 'data.pickle', which contains a dict object, into the variable \"data\". \n",
    "- You can assume that the directory containing 'data.pickle' is in your path (i.e., is accessible). "
   ]
  },
  {
   "cell_type": "code",
   "execution_count": 22,
   "id": "ac08332f",
   "metadata": {},
   "outputs": [],
   "source": [
    "import pickle\n",
    "\n",
    "test_data = [1,2,3,4]\n",
    "\n",
    "pickle.dump(test_data, open( \"test.pickle\", \"wb\" ))\n",
    "\n",
    "with open('test.pickle', 'rb') as f:\n",
    "    restored_data = pickle.load(f)\n",
    "    \n",
    "assert test_data == restored_data"
   ]
  },
  {
   "cell_type": "markdown",
   "id": "b1fa4083",
   "metadata": {},
   "source": [
    "## Question 9\n",
    "- Suppose the dict called \"data\" has been set to {'a': 3, 'c': 9, 'b': 5}. \n",
    "- How do you set the value corresponding to the key 'b' to 100?"
   ]
  },
  {
   "cell_type": "code",
   "execution_count": 23,
   "id": "890512a2",
   "metadata": {},
   "outputs": [
    {
     "data": {
      "text/plain": [
       "{'a': 3, 'c': 9, 'b': 100}"
      ]
     },
     "execution_count": 23,
     "metadata": {},
     "output_type": "execute_result"
    }
   ],
   "source": [
    "data = {'a': 3, 'c': 9, 'b': 5}\n",
    "data['b']=100\n",
    "data"
   ]
  },
  {
   "cell_type": "markdown",
   "id": "00687a63",
   "metadata": {},
   "source": [
    "## Question 10\n",
    "Script to generate plot"
   ]
  },
  {
   "cell_type": "code",
   "execution_count": 24,
   "id": "c70771f9",
   "metadata": {},
   "outputs": [
    {
     "data": {
      "image/png": "[encoded data removed]",
      "text/plain": [
       "<Figure size 432x288 with 1 Axes>"
      ]
     },
     "metadata": {
      "needs_background": "light"
     },
     "output_type": "display_data"
    }
   ],
   "source": [
    "import numpy as np\n",
    "import matplotlib.pyplot as plt\n",
    "\n",
    "x = np.arange(0, 5, step=0.05)\n",
    "y = np.sin(x**2)\n",
    "plt.plot(x,y)\n",
    "plt.show()"
   ]
  },
  {
   "cell_type": "markdown",
   "id": "976146c8",
   "metadata": {},
   "source": [
    "## Question 11\n",
    "Given the array x = np.array([1,2,3,4,5]), create an array y that contains the cubes of all the elements of x"
   ]
  },
  {
   "cell_type": "code",
   "execution_count": 25,
   "id": "faa908fc",
   "metadata": {},
   "outputs": [
    {
     "data": {
      "text/plain": [
       "array([  1,   8,  27,  64, 125], dtype=int32)"
      ]
     },
     "execution_count": 25,
     "metadata": {},
     "output_type": "execute_result"
    }
   ],
   "source": [
    "x = np.array([1,2,3,4,5])\n",
    "y = x**3\n",
    "y"
   ]
  },
  {
   "cell_type": "markdown",
   "id": "e6849d3c",
   "metadata": {},
   "source": [
    "## Question 12\n",
    "Array manipulation and transpose operation"
   ]
  },
  {
   "cell_type": "code",
   "execution_count": 27,
   "id": "551b4c8f",
   "metadata": {},
   "outputs": [
    {
     "data": {
      "text/plain": [
       "array([[4, 9],\n",
       "       [9, 0],\n",
       "       [0, 0]])"
      ]
     },
     "execution_count": 27,
     "metadata": {},
     "output_type": "execute_result"
    }
   ],
   "source": [
    "x = np.array([[1, 2, 3], [2, 3, 4]])\n",
    "x *= 5\n",
    "x -= 1\n",
    "x[x>10] = 0\n",
    "x = x.T\n",
    "x"
   ]
  },
  {
   "cell_type": "markdown",
   "id": "3a4b7441",
   "metadata": {},
   "source": [
    "## Question 13\n",
    "Checking that elements is in the set"
   ]
  },
  {
   "cell_type": "code",
   "execution_count": 30,
   "id": "53a6c376",
   "metadata": {},
   "outputs": [
    {
     "name": "stdout",
     "output_type": "stream",
     "text": [
      "3 in [2,5,9] False\n",
      "2 in [2, 5, 9] True\n",
      "2 not in [2, 5, 9] False\n"
     ]
    }
   ],
   "source": [
    "x = 3\n",
    "print('3 in [2,5,9]', x in [2, 5, 9])\n",
    "x = 2\n",
    "print('2 in [2, 5, 9]', x in [2, 5, 9])\n",
    "print('2 not in [2, 5, 9]', x not in [2, 5, 9])"
   ]
  },
  {
   "cell_type": "markdown",
   "id": "7da25a13",
   "metadata": {},
   "source": [
    "## Question 14\n",
    "import pdb; pdb.set_trace()"
   ]
  },
  {
   "cell_type": "code",
   "execution_count": 33,
   "id": "41d3c78d",
   "metadata": {},
   "outputs": [],
   "source": [
    "# import pdb; pdb.set_trace()"
   ]
  },
  {
   "cell_type": "markdown",
   "id": "08b1c129",
   "metadata": {},
   "source": [
    "```\n",
    "--Call--\n",
    "> c:\\dev\\miniconda3\\lib\\site-packages\\ipython\\core\\displayhook.py(252)__call__()\n",
    "    250         sys.stdout.flush()\n",
    "    251 \n",
    "--> 252     def __call__(self, result=None):\n",
    "    253         \"\"\"Printing with history cache management.\n",
    "    254 \n",
    "\n",
    "--KeyboardInterrupt--\n",
    "\n",
    "KeyboardInterrupt: Interrupted by user\n",
    "```"
   ]
  },
  {
   "cell_type": "code",
   "execution_count": null,
   "id": "c74de924",
   "metadata": {},
   "outputs": [],
   "source": []
  }
 ],
 "metadata": {
  "kernelspec": {
   "display_name": "Python 3 (ipykernel)",
   "language": "python",
   "name": "python3"
  },
  "language_info": {
   "codemirror_mode": {
    "name": "ipython",
    "version": 3
   },
   "file_extension": ".py",
   "mimetype": "text/x-python",
   "name": "python",
   "nbconvert_exporter": "python",
   "pygments_lexer": "ipython3",
   "version": "3.8.3"
  }
 },
 "nbformat": 4,
 "nbformat_minor": 5
}
