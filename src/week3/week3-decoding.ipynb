{
 "cells": [
  {
   "cell_type": "code",
   "execution_count": 6,
   "id": "34d90cf7",
   "metadata": {},
   "outputs": [],
   "source": [
    "import math\n",
    "\n",
    "pi = math.pi\n",
    "l = math.log(1/2)*4*pi**2*0.25\n",
    "a = 2*pi*0.75/l\n",
    "b = 2*pi*(20-0.25)/l\n",
    "c = 2*pi*(50-49*0.25)/l"
   ]
  },
  {
   "cell_type": "code",
   "execution_count": null,
   "id": "b0d43252",
   "metadata": {},
   "outputs": [],
   "source": []
  }
 ],
 "metadata": {
  "kernelspec": {
   "display_name": "Python 3 (ipykernel)",
   "language": "python",
   "name": "python3"
  },
  "language_info": {
   "codemirror_mode": {
    "name": "ipython",
    "version": 3
   },
   "file_extension": ".py",
   "mimetype": "text/x-python",
   "name": "python",
   "nbconvert_exporter": "python",
   "pygments_lexer": "ipython3",
   "version": "3.8.3"
  }
 },
 "nbformat": 4,
 "nbformat_minor": 5
}
